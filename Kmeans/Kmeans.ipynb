{
  "nbformat": 4,
  "nbformat_minor": 0,
  "metadata": {
    "colab": {
      "provenance": []
    },
    "kernelspec": {
      "name": "python3",
      "display_name": "Python 3"
    },
    "language_info": {
      "name": "python"
    }
  },
  "cells": [
    {
      "cell_type": "code",
      "execution_count": 4,
      "metadata": {
        "id": "c7-ma86GRU1_"
      },
      "outputs": [],
      "source": [
        "import numpy as np\n",
        "import matplotlib.pyplot as plt"
      ]
    },
    {
      "cell_type": "code",
      "source": [
        "x=[1,2,3,2.5,0.4,9,10,12,12.5]"
      ],
      "metadata": {
        "id": "XyeGnGFNRYMI"
      },
      "execution_count": 2,
      "outputs": []
    },
    {
      "cell_type": "code",
      "source": [
        "y=[2,3,1,2,3,11,12.5,10,11]"
      ],
      "metadata": {
        "id": "dkNvlJxRRsb9"
      },
      "execution_count": 3,
      "outputs": []
    },
    {
      "cell_type": "code",
      "source": [
        "plt.scatter(x,y)"
      ],
      "metadata": {
        "colab": {
          "base_uri": "https://localhost:8080/",
          "height": 448
        },
        "id": "nn-m9XaDR1Lr",
        "outputId": "11eed1ec-7c1b-4613-f907-ee10a9c1c754"
      },
      "execution_count": 5,
      "outputs": [
        {
          "output_type": "execute_result",
          "data": {
            "text/plain": [
              "<matplotlib.collections.PathCollection at 0x7a0a9208a750>"
            ]
          },
          "metadata": {},
          "execution_count": 5
        },
        {
          "output_type": "display_data",
          "data": {
            "text/plain": [
              "<Figure size 640x480 with 1 Axes>"
            ],
            "image/png": "[encoded data removed]"
          },
          "metadata": {}
        }
      ]
    },
    {
      "cell_type": "code",
      "source": [
        "k1=(12,2)\n",
        "k2=(0,12)\n",
        "cluster1=[]\n",
        "cluster2=[]\n",
        "k1_new=np.array([0,0])\n",
        "k2_new=np.array([0,0])"
      ],
      "metadata": {
        "id": "vmC3Gd__R5kY"
      },
      "execution_count": 103,
      "outputs": []
    },
    {
      "cell_type": "code",
      "source": [
        "def distance(x1,y1,x2,y2):\n",
        "  return np.sqrt((x2-x1)**2+(y2-y1)**2)"
      ],
      "metadata": {
        "id": "S9Y6v-enSdPe"
      },
      "execution_count": 104,
      "outputs": []
    },
    {
      "cell_type": "code",
      "source": [
        "for j in range(10):\n",
        "  for i in range(len(x)):\n",
        "    if distance(k1[0],k1[1],x[i],y[i])<distance(k2[0],k2[1],x[i],y[i]):\n",
        "      cluster1.append([x[i],y[i]])\n",
        "    else:\n",
        "      cluster2.append([x[i],y[i]])\n",
        "\n",
        "  k1=np.mean(cluster1,axis=0)\n",
        "  k2=np.mean(cluster2,axis=0)\n",
        "\n",
        "  if k1_new[0]==k1[0] and k1_new[1]==k1[1] and k2_new[0]==k2[0] and k2_new[1]==k2[1]:\n",
        "    break\n",
        "  print(\"Cluster1:\",cluster1)\n",
        "  print(\"Cluster2:\",cluster2)\n",
        "  print(\"K1:\",k1)\n",
        "  print(\"K2:\",k2)\n",
        "  k1_new=np.array([k1[0],k1[1]])\n",
        "  k2_new=np.array([k2[0],k2[1]])\n",
        "  cluster1=[]\n",
        "  cluster2=[]"
      ],
      "metadata": {
        "colab": {
          "base_uri": "https://localhost:8080/"
        },
        "id": "ixBEBvXsR_Pb",
        "outputId": "ca801fc6-2f2d-4c89-ac1c-568d631c6a56"
      },
      "execution_count": 105,
      "outputs": [
        {
          "output_type": "stream",
          "name": "stdout",
          "text": [
            "Cluster1: [[3, 1], [2.5, 2], [12, 10], [12.5, 11]]\n",
            "Cluster2: [[1, 2], [2, 3], [0.4, 3], [9, 11], [10, 12.5]]\n",
            "K1: [7.5 6. ]\n",
            "K2: [4.48 6.3 ]\n",
            "Cluster1: [[9, 11], [10, 12.5], [12, 10], [12.5, 11]]\n",
            "Cluster2: [[1, 2], [2, 3], [3, 1], [2.5, 2], [0.4, 3]]\n",
            "K1: [10.875 11.125]\n",
            "K2: [1.78 2.2 ]\n"
          ]
        }
      ]
    },
    {
      "cell_type": "code",
      "source": [],
      "metadata": {
        "colab": {
          "base_uri": "https://localhost:8080/"
        },
        "id": "UcKut1oqSIzI",
        "outputId": "363da86d-fdd1-429d-fc0a-90ea3ea8e03e"
      },
      "execution_count": 76,
      "outputs": [
        {
          "output_type": "execute_result",
          "data": {
            "text/plain": [
              "array([1.78, 2.2 ])"
            ]
          },
          "metadata": {},
          "execution_count": 76
        }
      ]
    },
    {
      "cell_type": "code",
      "source": [],
      "metadata": {
        "colab": {
          "base_uri": "https://localhost:8080/"
        },
        "id": "30yVbhKiTCfO",
        "outputId": "4f81f72c-b65a-4b9c-8348-d4ee817bcca9"
      },
      "execution_count": 77,
      "outputs": [
        {
          "output_type": "execute_result",
          "data": {
            "text/plain": [
              "array([10.875, 11.125])"
            ]
          },
          "metadata": {},
          "execution_count": 77
        }
      ]
    },
    {
      "cell_type": "code",
      "source": [],
      "metadata": {
        "colab": {
          "base_uri": "https://localhost:8080/"
        },
        "id": "SRe7tpOpT9mC",
        "outputId": "2f6f86b7-32d9-4c09-91c3-20e1de31eca1"
      },
      "execution_count": 78,
      "outputs": [
        {
          "output_type": "stream",
          "name": "stdout",
          "text": [
            "[[1, 2], [2, 3], [3, 1], [2.5, 2], [0.4, 3]]\n",
            "[[9, 11], [10, 12.5], [12, 10], [12.5, 11]]\n"
          ]
        }
      ]
    },
    {
      "cell_type": "code",
      "source": [],
      "metadata": {
        "id": "ZcDcgdS5TZlI"
      },
      "execution_count": 74,
      "outputs": []
    },
    {
      "cell_type": "code",
      "source": [],
      "metadata": {
        "id": "ioGpsdaqTxUa"
      },
      "execution_count": null,
      "outputs": []
    }
  ]
}