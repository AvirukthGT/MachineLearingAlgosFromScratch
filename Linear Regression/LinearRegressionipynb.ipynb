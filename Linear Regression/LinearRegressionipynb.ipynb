{
 "cells": [
  {
   "cell_type": "markdown",
   "metadata": {
    "id": "KBqdBdvJaxF3"
   },
   "source": [
    "#**Linear regression from Scratch**"
   ]
  },
  {
   "cell_type": "code",
   "execution_count": 14,
   "metadata": {
    "id": "jngrPaVucM4T"
   },
   "outputs": [],
   "source": [
    "import numpy as np\n",
    "import matplotlib.pyplot as plt"
   ]
  },
  {
   "cell_type": "markdown",
   "metadata": {
    "id": "D1KJoLSubi2b"
   },
   "source": [
    "###Importing necxessary libraries\n",
    "\n",
    "- **`numpy`** (imported as `np`)  \n",
    "  Provides efficient numerical operations and array handling. It is essential for performing mathematical computations such as matrix operations, numerical analysis, and handling datasets needed for linear regression.\n",
    "\n",
    "- **`matplotlib.pyplot`** (imported as `plt`)  \n",
    "  Enables visualizing data points, regression lines, and model results through various plots. This helps in visually assessing the accuracy and performance of your linear regression model.\n"
   ]
  },
  {
   "cell_type": "code",
   "execution_count": 15,
   "metadata": {
    "id": "Vl2Q5hdfcdJh"
   },
   "outputs": [],
   "source": [
    "x=np.random.uniform(0,10,100)\n",
    "w_initial=5\n",
    "b_initial=3.2\n",
    "y=x*w_initial+b_initial\n",
    "\n",
    "y_noise=y+np.random.normal(loc=0, scale=5, size=x.shape)"
   ]
  },
  {
   "cell_type": "markdown",
   "metadata": {
    "id": "DAfLCi8qcaQh"
   },
   "source": [
    "\n",
    "### About Linear Regression:\n",
    "Linear regression is a supervised machine learning algorithm used to predict continuous numerical outcomes. It models the relationship between an independent variable (feature, $x$) and a dependent variable (target, $y$) by fitting a straight line to the data points.\n",
    "\n",
    "The general formula for a straight line is:\n",
    "$$\n",
    "y = wx + b\n",
    "$$\n",
    "- $y$ is the dependent variable (the output).\n",
    "- $x$ is the independent variable (the input).\n",
    "- $w$ (slope) determines the steepness of the line.\n",
    "- $b$ (intercept) is the point at which the line crosses the y-axis.\n",
    "\n",
    "### Explanation of the provided code:\n",
    "\n",
    "- `x=np.random.uniform(0,10,100)`  \n",
    "  Generates 100 random values uniformly distributed between 0 and 10 as independent variable values (`x`).\n",
    "\n",
    "- `w_initial=5` and `b_initial=3.2`  \n",
    "  Sets initial slope (`w`) to 5 and initial intercept (`b`) to 3.2 for creating synthetic data.\n",
    "\n",
    "- `y=x*w_initial+b_initial`  \n",
    "  Calculates the dependent variable (`y`) using the line formula $y=wx+b$ with the initial slope and intercept.\n",
    "\n",
    "- `y_noise=y+np.random.normal(loc=0, scale=5, size=x.shape)`  \n",
    "  Adds Gaussian (normal) noise to the `y` values. Here, `loc=0` means the noise is centered around zero, and `scale=5` defines the standard deviation (amount of variation or noise added). This creates a realistic scenario where data does not perfectly align with the linear model.\n"
   ]
  },
  {
   "cell_type": "code",
   "execution_count": 16,
   "metadata": {
    "colab": {
     "base_uri": "https://localhost:8080/",
     "height": 447
    },
    "id": "2Mz63CYBfco7",
    "outputId": "7ddf7b6c-0d29-4fc6-8419-6734a0ffe9b0"
   },
   "outputs": [
    {
     "data": {
      "text/plain": [
       "<matplotlib.collections.PathCollection at 0x11a1dd7d0>"
      ]
     },
     "execution_count": 16,
     "metadata": {},
     "output_type": "execute_result"
    },
    {
     "data": {
      "image/png": "[encoded data removed]",
      "text/plain": [
       "<Figure size 640x480 with 1 Axes>"
      ]
     },
     "metadata": {},
     "output_type": "display_data"
    }
   ],
   "source": [
    "plt.scatter(x,y_noise)"
   ]
  },
  {
   "cell_type": "markdown",
   "metadata": {
    "id": "ugMpk2wVc2BW"
   },
   "source": [
    "The code `plt.scatter(x, y_noise)` generates a scatter plot, which visually displays the relationship between the independent variable (`x`) and the dependent variable with added noise (`y_noise`).\n",
    "\n",
    "### Interpretation of the Graph:\n",
    "- Each point represents one observation from the dataset.\n",
    "- The overall trend of points clearly indicates a positive linear relationship: as the value of `x` increases, the value of `y_noise` tends to increase as well.\n",
    "- The spread of points around the general trend line represents the noise or random variation added to the data, reflecting real-world scenarios where data rarely fits a perfect line.\n",
    "- Visualizing data with scatter plots is essential for initially assessing the suitability of a linear regression model.\n"
   ]
  },
  {
   "cell_type": "code",
   "execution_count": 17,
   "metadata": {
    "id": "4mHCJVCDfdPd"
   },
   "outputs": [],
   "source": [
    "w=np.sum((x-np.mean(x))*(y_noise-np.mean(y_noise)))/np.sum((x-np.mean(x))**2)\n",
    "b=np.mean(y_noise)-w*np.mean(x)"
   ]
  },
  {
   "cell_type": "markdown",
   "metadata": {
    "id": "8kIYtjrMc6oG"
   },
   "source": [
    "## Step-by-Step Derivation of Linear Regression Formulas\n",
    "\n",
    "Linear regression aims to find the line that best fits the observed data points by minimizing the sum of squared differences between predicted ($\\hat{y}$) and observed values ($y$).\n",
    "\n",
    "### **Step 1: Equation of a Line**\n",
    "The basic linear equation is:\n",
    "$$\n",
    "y = wx + b\n",
    "$$\n",
    "- $y$ is the dependent variable.\n",
    "- $x$ is the independent variable.\n",
    "- $w$ is the slope.\n",
    "- $b$ is the intercept.\n",
    "\n",
    "---\n",
    "\n",
    "### **Step 2: Define the Objective (Least Squares Method)**\n",
    "\n",
    "We minimize the squared differences between observed values ($y_i$) and predicted values ($\\hat{y_i}$):\n",
    "\n",
    "Minimize:\n",
    "$$\n",
    "S = \\sum_{i=1}^{n}(y_i - \\hat{y}_i)^2 = \\sum_{i=1}^{n}(y_i - (w x_i + b))^2\n",
    "$$\n",
    "\n",
    "---\n",
    "\n",
    "### **Step 3: Partial Derivatives (Finding Minima)**\n",
    "\n",
    "To find the values of parameters $w$ and $b$ that minimize $S$, take partial derivatives of $S$ with respect to each parameter and set to zero.\n",
    "\n",
    "#### **Derivative with respect to $b$:**\n",
    "\n",
    "$$\n",
    "\\frac{\\partial S}{\\partial b} = -2\\sum_{i=1}^{n}(y_i - (w x_i + b)) = 0\n",
    "$$\n",
    "\n",
    "Simplify:\n",
    "$$\n",
    "\\sum_{i=1}^{n}(y_i - (w x_i + b)) = 0\n",
    "$$\n",
    "\n",
    "Expanding and rearranging gives:\n",
    "$$\n",
    "\\sum_{i=1}^{n}y_i - w\\sum_{i=1}^{n}x_i - nb = 0\n",
    "$$\n",
    "\n",
    "Divide by $n$:\n",
    "$$\n",
    "\\bar{y} - w\\bar{x} - b = 0\n",
    "$$\n",
    "\n",
    "Solve for $b$:\n",
    "$$\n",
    "b = \\bar{y} - w\\bar{x}\n",
    "$$\n",
    "\n",
    "---\n",
    "\n",
    "#### **Derivative with respect to $w$:**\n",
    "\n",
    "$$\n",
    "\\frac{\\partial S}{\\partial w} = -2\\sum_{i=1}^{n}x_i(y_i - (w x_i + b)) = 0\n",
    "$$\n",
    "\n",
    "Substitute $b = \\bar{y} - w\\bar{x}$ (from above) into this equation:\n",
    "\n",
    "$$\n",
    "\\sum_{i=1}^{n} x_i [y_i - w x_i - (\\bar{y} - w\\bar{x})] = 0\n",
    "$$\n",
    "\n",
    "Simplify further:\n",
    "$$\n",
    "\\sum_{i=1}^{n} x_i(y_i - \\bar{y}) - w\\sum_{i=1}^{n} x_i(x_i - \\bar{x}) = 0\n",
    "$$\n",
    "\n",
    "Solve for $w$:\n",
    "$$\n",
    "w = \\frac{\\sum_{i=1}^{n}(x_i - \\bar{x})(y_i - \\bar{y})}{\\sum_{i=1}^{n}(x_i - \\bar{x})^2}\n",
    "$$\n",
    "\n",
    "---\n",
    "\n",
    "### **Final Derived Equations:**\n",
    "- **Slope ($w$):**\n",
    "$$\n",
    "w = \\frac{\\sum_{i=1}^{n}(x_i - \\bar{x})(y_i - \\bar{y})}{\\sum_{i=1}^{n}(x_i - \\bar{x})^2}\n",
    "$$\n",
    "\n",
    "- **Intercept ($b$):**\n",
    "$$\n",
    "b = \\bar{y} - w\\bar{x}\n",
    "$$\n",
    "\n",
    "\n"
   ]
  },
  {
   "cell_type": "code",
   "execution_count": 18,
   "metadata": {
    "colab": {
     "base_uri": "https://localhost:8080/"
    },
    "id": "JXGwsWo5PCaB",
    "outputId": "424fc2d0-5926-493c-a73b-630feececdb5"
   },
   "outputs": [
    {
     "name": "stdout",
     "output_type": "stream",
     "text": [
      "Original Value of slope: 5\n",
      "Calculated Value of slope: 4.7299140093021235\n",
      "Original Value of intercept: 3.2\n",
      "Calculated Value of intercept: 5.55284916219691\n"
     ]
    }
   ],
   "source": [
    "print(f\"Original Value of slope:\",w_initial)\n",
    "print(f\"Calculated Value of slope:\",w)\n",
    "print(f\"Original Value of intercept:\",b_initial)\n",
    "print(f\"Calculated Value of intercept:\",b)"
   ]
  },
  {
   "cell_type": "markdown",
   "metadata": {
    "id": "tdtHDdXmep_t"
   },
   "source": [
    "## Comparison of Original and Calculated Values:\n",
    "\n",
    "The provided output compares the original values used to generate the synthetic dataset (true parameters) with the values calculated by the linear regression model (estimated parameters):\n",
    "\n",
    "- **Original slope (`w_initial`) = 5**\n",
    "- **Calculated slope (`w`) ≈ 4.90**\n",
    "- **Original intercept (`b_initial`) = 3.2**\n",
    "- **Calculated intercept (`b`) ≈ 3.73**\n",
    "\n",
    "### Interpretation:\n",
    "- The calculated slope and intercept values closely approximate the original (true) values, indicating that the linear regression model successfully captured the underlying relationship.\n",
    "- Slight differences between the calculated and original values are expected due to the added random noise (`np.random.normal`) introduced in generating the data. This noise simulates real-world data imperfections.\n",
    "- A smaller difference signifies a good fit and shows the effectiveness of the linear regression model in accurately estimating parameters from noisy data.\n"
   ]
  },
  {
   "cell_type": "code",
   "execution_count": 19,
   "metadata": {
    "colab": {
     "base_uri": "https://localhost:8080/",
     "height": 447
    },
    "id": "WRK4x4qNPVt_",
    "outputId": "df96dd91-68a7-4a0f-b581-f65da973c50c"
   },
   "outputs": [
    {
     "data": {
      "text/plain": [
       "[<matplotlib.lines.Line2D at 0x11a2644d0>]"
      ]
     },
     "execution_count": 19,
     "metadata": {},
     "output_type": "execute_result"
    },
    {
     "data": {
      "image/png": "[encoded data removed]",
      "text/plain": [
       "<Figure size 640x480 with 1 Axes>"
      ]
     },
     "metadata": {},
     "output_type": "display_data"
    }
   ],
   "source": [
    "y_new=w*x+b\n",
    "plt.scatter(x,y_noise)\n",
    "plt.plot(x,y_new,color='red')"
   ]
  },
  {
   "cell_type": "markdown",
   "metadata": {
    "id": "pMB8RbQwfIUy"
   },
   "source": [
    "## Explanation of Scatter Plot with Regression Line:\n",
    "\n",
    "- The scatter plot (`plt.scatter(x, y_noise)`) shows the original dataset points, where each point represents a data observation with added noise, simulating real-world variability.\n",
    "\n",
    "- The red line (`plt.plot(x, y_new, color='red')`) is the fitted regression line computed using the estimated slope ($w$) and intercept ($b$). This line represents the predicted relationship between the independent variable (`x`) and the dependent variable (`y`).\n",
    "\n",
    "### Interpretation:\n",
    "- The red regression line provides the best possible linear fit through the scattered data points, minimizing the sum of squared differences.\n",
    "- Visually, the closer the points are to the line, the better the model explains the relationship between the variables.\n",
    "- The graph clearly demonstrates how linear regression effectively models trends in data, even with the presence of random noise.\n"
   ]
  },
  {
   "cell_type": "code",
   "execution_count": 20,
   "metadata": {
    "colab": {
     "base_uri": "https://localhost:8080/"
    },
    "id": "e2AL2Q99PZlw",
    "outputId": "c901a136-bb67-46be-cf2d-2af56afe860d"
   },
   "outputs": [
    {
     "name": "stdout",
     "output_type": "stream",
     "text": [
      "Mean Squared Error (MSE) Loss: 16.133710576162276\n"
     ]
    }
   ],
   "source": [
    "# Mean Squared Error (MSE) loss calculation\n",
    "loss = np.mean((y_noise - y_new)**2)\n",
    "print(f\"Mean Squared Error (MSE) Loss: {loss}\")"
   ]
  },
  {
   "cell_type": "markdown",
   "metadata": {
    "id": "2AchwaIDfUN5"
   },
   "source": [
    "## Calculation and Explanation of Loss:\n",
    "\n",
    "The **Mean Squared Error (MSE)** is used to measure the accuracy of the linear regression model. It calculates the average squared differences between the observed (noisy) values (`y_noise`) and the predicted values (`y_pred`):\n",
    "\n",
    "$$\n",
    "\\text{MSE} = \\frac{1}{n}\\sum_{i=1}^{n}(y_{\\text{noise},i}-y_{\\text{pred},i})^2\n",
    "$$\n",
    "\n",
    "- A **lower MSE** indicates a model that fits the data well, as the predictions are closer to the actual data points.\n",
    "- A **higher MSE** implies the predictions are farther from the actual values, suggesting the model does not capture the underlying trend accurately.\n",
    "\n",
    "By calculating this value, you can objectively evaluate the effectiveness and accuracy of your linear regression model.\n"
   ]
  },
  {
   "cell_type": "markdown",
   "metadata": {
    "id": "uioCgHbDfRc7"
   },
   "source": [
    "# Creating a class like SK Learn"
   ]
  },
  {
   "cell_type": "code",
   "execution_count": 21,
   "metadata": {},
   "outputs": [],
   "source": [
    "class LinearRegression():\n",
    "    \n",
    "    def __init__(self):\n",
    "        self.w=0\n",
    "        self.b=0\n",
    "        \n",
    "    def fit(self,X_train,y_train):\n",
    "        self.w=np.sum((X_train-np.mean(X_train))*(y_train-np.mean(y_train)))/np.sum((X_train-np.mean(X_train))**2)\n",
    "        self.b=np.mean(y_train)-self.w*np.mean(X_train)\n",
    "        print(\"W:\",self.w)\n",
    "        print(\"b:\",self.b)\n",
    "        \n",
    "    def predict(self,X_test):\n",
    "        return X_test*self.w+b"
   ]
  },
  {
   "cell_type": "code",
   "execution_count": 22,
   "metadata": {},
   "outputs": [],
   "source": [
    "x=np.random.uniform(0,10,100)\n",
    "w_initial=5\n",
    "b_initial=3.2\n",
    "y=x*w_initial+b_initial\n",
    "\n",
    "y_noise=y+np.random.normal(loc=0, scale=5, size=x.shape)"
   ]
  },
  {
   "cell_type": "code",
   "execution_count": 23,
   "metadata": {},
   "outputs": [],
   "source": [
    "lr=LinearRegression()"
   ]
  },
  {
   "cell_type": "code",
   "execution_count": 24,
   "metadata": {},
   "outputs": [
    {
     "name": "stdout",
     "output_type": "stream",
     "text": [
      "W: 4.892395043137967\n",
      "b: 3.636493221501272\n"
     ]
    }
   ],
   "source": [
    "lr.fit(x,y_noise)"
   ]
  },
  {
   "cell_type": "code",
   "execution_count": 33,
   "metadata": {},
   "outputs": [],
   "source": [
    "y_pred_1=lr.predict(x)"
   ]
  },
  {
   "cell_type": "code",
   "execution_count": 26,
   "metadata": {},
   "outputs": [
    {
     "data": {
      "text/plain": [
       "array([23.40768121, 58.13323643, 33.37680008, 23.95910621, 11.82247755,\n",
       "       40.13693282, 42.5669691 , 44.37380358, 16.96503804, 38.49707064,\n",
       "       46.32200438, 35.44170503, 58.93457486, 26.17209358, 31.57638268,\n",
       "       -1.48635252, 28.12997557, -1.45385376,  7.66266591,  6.60476994,\n",
       "       13.69687108, 34.35622903, 40.45573075, 12.88640065, -1.99142747,\n",
       "       31.26038049, 58.09341372, 36.16687974, 26.18735678, 38.45260978,\n",
       "        5.58426979, 20.94208757, 13.99631143, 18.65166382, 35.958641  ,\n",
       "       37.6064208 , 11.23616503,  0.61854765, 12.14224323, 16.66877488,\n",
       "       18.75482102, 35.34492934, 18.44956559, 28.48063661, 46.82914538,\n",
       "       10.54657634, 33.6059594 , 40.81762411, 32.39938431, 49.48772759,\n",
       "       -0.17470754, 13.01098349, 10.06396159, 26.09822651, 46.86041073,\n",
       "       29.0971642 , 39.43673694, 12.8446831 , 42.79190944,  8.80518101,\n",
       "        7.65826084, 26.36593615, 18.93383614, 19.45663127, 24.23194506,\n",
       "       30.25716144, 29.38562056, 31.96252099, 41.03188171, 38.52206081,\n",
       "       10.66111048, 48.87740369, 28.97595176, 30.09990086, 40.02478397,\n",
       "       13.37618928, 19.55799116, 38.91131658, 35.04790563, 20.33392007,\n",
       "       39.20791508, 22.24008681, 35.68106184, 17.00048119, 53.65158381,\n",
       "       24.52258962, -1.65397309, 29.5525513 , 36.43744456,  9.5724954 ,\n",
       "       12.74046434, 53.06735876, 11.02542262, 13.92680439, 17.20833369,\n",
       "       35.14018932, 25.42526065, 24.60012604, 53.92526923, 41.28444468])"
      ]
     },
     "execution_count": 26,
     "metadata": {},
     "output_type": "execute_result"
    }
   ],
   "source": [
    "y_noise"
   ]
  },
  {
   "cell_type": "code",
   "execution_count": 27,
   "metadata": {},
   "outputs": [],
   "source": [
    "from sklearn.linear_model import LinearRegression\n",
    "\n",
    "lr1=LinearRegression()\n",
    "lr1.fit(x.reshape(-1,1),y_noise)\n",
    "y_pred=lr1.predict(x.reshape(-1,1))"
   ]
  },
  {
   "cell_type": "code",
   "execution_count": null,
   "metadata": {},
   "outputs": [
    {
     "data": {
      "text/plain": [
       "28.335301812801877"
      ]
     },
     "execution_count": 35,
     "metadata": {},
     "output_type": "execute_result"
    }
   ],
   "source": [
    "#MSE for our model\n",
    "np.sum(((y_pred_1-y_noise)**2))/x.shape[0]"
   ]
  },
  {
   "cell_type": "code",
   "execution_count": 36,
   "metadata": {},
   "outputs": [
    {
     "data": {
      "text/plain": [
       "24.6628817213624"
      ]
     },
     "execution_count": 36,
     "metadata": {},
     "output_type": "execute_result"
    }
   ],
   "source": [
    "#MSE for sklearn model\n",
    "np.sum(((y_pred-y_noise)**2))/x.shape[0]"
   ]
  },
  {
   "cell_type": "code",
   "execution_count": null,
   "metadata": {},
   "outputs": [],
   "source": []
  }
 ],
 "metadata": {
  "colab": {
   "provenance": []
  },
  "kernelspec": {
   "display_name": "base",
   "language": "python",
   "name": "python3"
  },
  "language_info": {
   "codemirror_mode": {
    "name": "ipython",
    "version": 3
   },
   "file_extension": ".py",
   "mimetype": "text/x-python",
   "name": "python",
   "nbconvert_exporter": "python",
   "pygments_lexer": "ipython3",
   "version": "3.11.5"
  }
 },
 "nbformat": 4,
 "nbformat_minor": 1
}
