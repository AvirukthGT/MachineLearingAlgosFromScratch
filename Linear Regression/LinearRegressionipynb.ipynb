{
  "nbformat": 4,
  "nbformat_minor": 0,
  "metadata": {
    "colab": {
      "provenance": []
    },
    "kernelspec": {
      "name": "python3",
      "display_name": "Python 3"
    },
    "language_info": {
      "name": "python"
    }
  },
  "cells": [
    {
      "cell_type": "markdown",
      "source": [
        "#**Linear regression from Scratch**"
      ],
      "metadata": {
        "id": "KBqdBdvJaxF3"
      }
    },
    {
      "cell_type": "code",
      "execution_count": 63,
      "metadata": {
        "id": "jngrPaVucM4T"
      },
      "outputs": [],
      "source": [
        "import numpy as np\n",
        "import matplotlib.pyplot as plt"
      ]
    },
    {
      "cell_type": "markdown",
      "source": [
        "###Importing necxessary libraries\n",
        "\n",
        "- **`numpy`** (imported as `np`)  \n",
        "  Provides efficient numerical operations and array handling. It is essential for performing mathematical computations such as matrix operations, numerical analysis, and handling datasets needed for linear regression.\n",
        "\n",
        "- **`matplotlib.pyplot`** (imported as `plt`)  \n",
        "  Enables visualizing data points, regression lines, and model results through various plots. This helps in visually assessing the accuracy and performance of your linear regression model.\n"
      ],
      "metadata": {
        "id": "D1KJoLSubi2b"
      }
    },
    {
      "cell_type": "code",
      "source": [
        "x=np.random.uniform(0,10,100)\n",
        "w_initial=5\n",
        "b_initial=3.2\n",
        "y=x*w_initial+b_initial\n",
        "\n",
        "y_noise=y+np.random.normal(loc=0, scale=5, size=x.shape)"
      ],
      "metadata": {
        "id": "Vl2Q5hdfcdJh"
      },
      "execution_count": 64,
      "outputs": []
    },
    {
      "cell_type": "markdown",
      "source": [
        "\n",
        "### About Linear Regression:\n",
        "Linear regression is a supervised machine learning algorithm used to predict continuous numerical outcomes. It models the relationship between an independent variable (feature, $x$) and a dependent variable (target, $y$) by fitting a straight line to the data points.\n",
        "\n",
        "The general formula for a straight line is:\n",
        "$$\n",
        "y = wx + b\n",
        "$$\n",
        "- $y$ is the dependent variable (the output).\n",
        "- $x$ is the independent variable (the input).\n",
        "- $w$ (slope) determines the steepness of the line.\n",
        "- $b$ (intercept) is the point at which the line crosses the y-axis.\n",
        "\n",
        "### Explanation of the provided code:\n",
        "\n",
        "- `x=np.random.uniform(0,10,100)`  \n",
        "  Generates 100 random values uniformly distributed between 0 and 10 as independent variable values (`x`).\n",
        "\n",
        "- `w_initial=5` and `b_initial=3.2`  \n",
        "  Sets initial slope (`w`) to 5 and initial intercept (`b`) to 3.2 for creating synthetic data.\n",
        "\n",
        "- `y=x*w_initial+b_initial`  \n",
        "  Calculates the dependent variable (`y`) using the line formula $y=wx+b$ with the initial slope and intercept.\n",
        "\n",
        "- `y_noise=y+np.random.normal(loc=0, scale=5, size=x.shape)`  \n",
        "  Adds Gaussian (normal) noise to the `y` values. Here, `loc=0` means the noise is centered around zero, and `scale=5` defines the standard deviation (amount of variation or noise added). This creates a realistic scenario where data does not perfectly align with the linear model.\n"
      ],
      "metadata": {
        "id": "DAfLCi8qcaQh"
      }
    },
    {
      "cell_type": "code",
      "source": [
        "plt.scatter(x,y_noise)"
      ],
      "metadata": {
        "colab": {
          "base_uri": "https://localhost:8080/",
          "height": 447
        },
        "id": "2Mz63CYBfco7",
        "outputId": "7ddf7b6c-0d29-4fc6-8419-6734a0ffe9b0"
      },
      "execution_count": 65,
      "outputs": [
        {
          "output_type": "execute_result",
          "data": {
            "text/plain": [
              "<matplotlib.collections.PathCollection at 0x7cc1ffaec4d0>"
            ]
          },
          "metadata": {},
          "execution_count": 65
        },
        {
          "output_type": "display_data",
          "data": {
            "text/plain": [
              "<Figure size 640x480 with 1 Axes>"
            ],
            "image/png": "[encoded data removed]"
          },
          "metadata": {}
        }
      ]
    },
    {
      "cell_type": "markdown",
      "source": [
        "The code `plt.scatter(x, y_noise)` generates a scatter plot, which visually displays the relationship between the independent variable (`x`) and the dependent variable with added noise (`y_noise`).\n",
        "\n",
        "### Interpretation of the Graph:\n",
        "- Each point represents one observation from the dataset.\n",
        "- The overall trend of points clearly indicates a positive linear relationship: as the value of `x` increases, the value of `y_noise` tends to increase as well.\n",
        "- The spread of points around the general trend line represents the noise or random variation added to the data, reflecting real-world scenarios where data rarely fits a perfect line.\n",
        "- Visualizing data with scatter plots is essential for initially assessing the suitability of a linear regression model.\n"
      ],
      "metadata": {
        "id": "ugMpk2wVc2BW"
      }
    },
    {
      "cell_type": "code",
      "source": [
        "w=np.sum((x-np.mean(x))*(y_noise-np.mean(y_noise)))/np.sum((x-np.mean(x))**2)\n",
        "b=np.mean(y)-w*np.mean(x)"
      ],
      "metadata": {
        "id": "4mHCJVCDfdPd"
      },
      "execution_count": null,
      "outputs": []
    },
    {
      "cell_type": "markdown",
      "source": [
        "## Step-by-Step Derivation of Linear Regression Formulas\n",
        "\n",
        "Linear regression aims to find the line that best fits the observed data points by minimizing the sum of squared differences between predicted ($\\hat{y}$) and observed values ($y$).\n",
        "\n",
        "### **Step 1: Equation of a Line**\n",
        "The basic linear equation is:\n",
        "$$\n",
        "y = wx + b\n",
        "$$\n",
        "- $y$ is the dependent variable.\n",
        "- $x$ is the independent variable.\n",
        "- $w$ is the slope.\n",
        "- $b$ is the intercept.\n",
        "\n",
        "---\n",
        "\n",
        "### **Step 2: Define the Objective (Least Squares Method)**\n",
        "\n",
        "We minimize the squared differences between observed values ($y_i$) and predicted values ($\\hat{y_i}$):\n",
        "\n",
        "Minimize:\n",
        "$$\n",
        "S = \\sum_{i=1}^{n}(y_i - \\hat{y}_i)^2 = \\sum_{i=1}^{n}(y_i - (w x_i + b))^2\n",
        "$$\n",
        "\n",
        "---\n",
        "\n",
        "### **Step 3: Partial Derivatives (Finding Minima)**\n",
        "\n",
        "To find the values of parameters $w$ and $b$ that minimize $S$, take partial derivatives of $S$ with respect to each parameter and set to zero.\n",
        "\n",
        "#### **Derivative with respect to $b$:**\n",
        "\n",
        "$$\n",
        "\\frac{\\partial S}{\\partial b} = -2\\sum_{i=1}^{n}(y_i - (w x_i + b)) = 0\n",
        "$$\n",
        "\n",
        "Simplify:\n",
        "$$\n",
        "\\sum_{i=1}^{n}(y_i - (w x_i + b)) = 0\n",
        "$$\n",
        "\n",
        "Expanding and rearranging gives:\n",
        "$$\n",
        "\\sum_{i=1}^{n}y_i - w\\sum_{i=1}^{n}x_i - nb = 0\n",
        "$$\n",
        "\n",
        "Divide by $n$:\n",
        "$$\n",
        "\\bar{y} - w\\bar{x} - b = 0\n",
        "$$\n",
        "\n",
        "Solve for $b$:\n",
        "$$\n",
        "b = \\bar{y} - w\\bar{x}\n",
        "$$\n",
        "\n",
        "---\n",
        "\n",
        "#### **Derivative with respect to $w$:**\n",
        "\n",
        "$$\n",
        "\\frac{\\partial S}{\\partial w} = -2\\sum_{i=1}^{n}x_i(y_i - (w x_i + b)) = 0\n",
        "$$\n",
        "\n",
        "Substitute $b = \\bar{y} - w\\bar{x}$ (from above) into this equation:\n",
        "\n",
        "$$\n",
        "\\sum_{i=1}^{n} x_i [y_i - w x_i - (\\bar{y} - w\\bar{x})] = 0\n",
        "$$\n",
        "\n",
        "Simplify further:\n",
        "$$\n",
        "\\sum_{i=1}^{n} x_i(y_i - \\bar{y}) - w\\sum_{i=1}^{n} x_i(x_i - \\bar{x}) = 0\n",
        "$$\n",
        "\n",
        "Solve for $w$:\n",
        "$$\n",
        "w = \\frac{\\sum_{i=1}^{n}(x_i - \\bar{x})(y_i - \\bar{y})}{\\sum_{i=1}^{n}(x_i - \\bar{x})^2}\n",
        "$$\n",
        "\n",
        "---\n",
        "\n",
        "### **Final Derived Equations:**\n",
        "- **Slope ($w$):**\n",
        "$$\n",
        "w = \\frac{\\sum_{i=1}^{n}(x_i - \\bar{x})(y_i - \\bar{y})}{\\sum_{i=1}^{n}(x_i - \\bar{x})^2}\n",
        "$$\n",
        "\n",
        "- **Intercept ($b$):**\n",
        "$$\n",
        "b = \\bar{y} - w\\bar{x}\n",
        "$$\n",
        "\n",
        "\n"
      ],
      "metadata": {
        "id": "8kIYtjrMc6oG"
      }
    },
    {
      "cell_type": "code",
      "source": [
        "print(f\"Original Value of slope:\",w_initial)\n",
        "print(f\"Calculated Value of slope:\",w)\n",
        "print(f\"Original Value of intercept:\",b_initial)\n",
        "print(f\"Calculated Value of intercept:\",b)"
      ],
      "metadata": {
        "colab": {
          "base_uri": "https://localhost:8080/"
        },
        "id": "JXGwsWo5PCaB",
        "outputId": "424fc2d0-5926-493c-a73b-630feececdb5"
      },
      "execution_count": 66,
      "outputs": [
        {
          "output_type": "stream",
          "name": "stdout",
          "text": [
            "Original Value of slope: 5\n",
            "Calculated Value of slope: 4.901851198929223\n",
            "Original Value of intercept: 3.2\n",
            "Calculated Value of intercept: 3.7323673456323796\n"
          ]
        }
      ]
    },
    {
      "cell_type": "markdown",
      "source": [
        "## Comparison of Original and Calculated Values:\n",
        "\n",
        "The provided output compares the original values used to generate the synthetic dataset (true parameters) with the values calculated by the linear regression model (estimated parameters):\n",
        "\n",
        "- **Original slope (`w_initial`) = 5**\n",
        "- **Calculated slope (`w`) ≈ 4.90**\n",
        "- **Original intercept (`b_initial`) = 3.2**\n",
        "- **Calculated intercept (`b`) ≈ 3.73**\n",
        "\n",
        "### Interpretation:\n",
        "- The calculated slope and intercept values closely approximate the original (true) values, indicating that the linear regression model successfully captured the underlying relationship.\n",
        "- Slight differences between the calculated and original values are expected due to the added random noise (`np.random.normal`) introduced in generating the data. This noise simulates real-world data imperfections.\n",
        "- A smaller difference signifies a good fit and shows the effectiveness of the linear regression model in accurately estimating parameters from noisy data.\n"
      ],
      "metadata": {
        "id": "tdtHDdXmep_t"
      }
    },
    {
      "cell_type": "code",
      "source": [
        "y_new=w*x+b\n",
        "plt.scatter(x,y_noise)\n",
        "plt.plot(x,y_new,color='red')"
      ],
      "metadata": {
        "colab": {
          "base_uri": "https://localhost:8080/",
          "height": 447
        },
        "id": "WRK4x4qNPVt_",
        "outputId": "df96dd91-68a7-4a0f-b581-f65da973c50c"
      },
      "execution_count": 68,
      "outputs": [
        {
          "output_type": "execute_result",
          "data": {
            "text/plain": [
              "[<matplotlib.lines.Line2D at 0x7cc1ff86fb50>]"
            ]
          },
          "metadata": {},
          "execution_count": 68
        },
        {
          "output_type": "display_data",
          "data": {
            "text/plain": [
              "<Figure size 640x480 with 1 Axes>"
            ],
            "image/png": "[encoded data removed]"
          },
          "metadata": {}
        }
      ]
    },
    {
      "cell_type": "markdown",
      "source": [
        "## Explanation of Scatter Plot with Regression Line:\n",
        "\n",
        "- The scatter plot (`plt.scatter(x, y_noise)`) shows the original dataset points, where each point represents a data observation with added noise, simulating real-world variability.\n",
        "\n",
        "- The red line (`plt.plot(x, y_new, color='red')`) is the fitted regression line computed using the estimated slope ($w$) and intercept ($b$). This line represents the predicted relationship between the independent variable (`x`) and the dependent variable (`y`).\n",
        "\n",
        "### Interpretation:\n",
        "- The red regression line provides the best possible linear fit through the scattered data points, minimizing the sum of squared differences.\n",
        "- Visually, the closer the points are to the line, the better the model explains the relationship between the variables.\n",
        "- The graph clearly demonstrates how linear regression effectively models trends in data, even with the presence of random noise.\n"
      ],
      "metadata": {
        "id": "pMB8RbQwfIUy"
      }
    },
    {
      "cell_type": "code",
      "source": [
        "# Mean Squared Error (MSE) loss calculation\n",
        "loss = np.mean((y_noise - y_new)**2)\n",
        "print(f\"Mean Squared Error (MSE) Loss: {loss}\")"
      ],
      "metadata": {
        "id": "e2AL2Q99PZlw",
        "colab": {
          "base_uri": "https://localhost:8080/"
        },
        "outputId": "c901a136-bb67-46be-cf2d-2af56afe860d"
      },
      "execution_count": 69,
      "outputs": [
        {
          "output_type": "stream",
          "name": "stdout",
          "text": [
            "Mean Squared Error (MSE) Loss: 30.045999044555057\n"
          ]
        }
      ]
    },
    {
      "cell_type": "markdown",
      "source": [
        "## Calculation and Explanation of Loss:\n",
        "\n",
        "The **Mean Squared Error (MSE)** is used to measure the accuracy of the linear regression model. It calculates the average squared differences between the observed (noisy) values (`y_noise`) and the predicted values (`y_pred`):\n",
        "\n",
        "$$\n",
        "\\text{MSE} = \\frac{1}{n}\\sum_{i=1}^{n}(y_{\\text{noise},i}-y_{\\text{pred},i})^2\n",
        "$$\n",
        "\n",
        "- A **lower MSE** indicates a model that fits the data well, as the predictions are closer to the actual data points.\n",
        "- A **higher MSE** implies the predictions are farther from the actual values, suggesting the model does not capture the underlying trend accurately.\n",
        "\n",
        "By calculating this value, you can objectively evaluate the effectiveness and accuracy of your linear regression model.\n"
      ],
      "metadata": {
        "id": "2AchwaIDfUN5"
      }
    },
    {
      "cell_type": "code",
      "source": [],
      "metadata": {
        "id": "uioCgHbDfRc7"
      },
      "execution_count": null,
      "outputs": []
    }
  ]
}